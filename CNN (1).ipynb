{
  "cells": [
    {
      "cell_type": "markdown",
      "metadata": {
        "id": "3DR-eO17geWu"
      },
      "source": [
        "# Convolutional Neural Network"
      ]
    },
    {
      "cell_type": "code",
      "source": [
        "import tensorflow as tf\n",
        "from tensorflow.keras.models import Sequential\n",
        "from tensorflow.keras.layers import Conv2D, MaxPooling2D, Flatten, Dense, Dropout\n",
        "from sklearn.model_selection import train_test_split\n",
        "from sklearn.preprocessing import LabelBinarizer\n",
        "import numpy as np\n",
        "import cv2\n",
        "import os\n",
        "from tqdm import tqdm"
      ],
      "metadata": {
        "id": "JeE6vU0AtlNL"
      },
      "execution_count": 12,
      "outputs": []
    },
    {
      "cell_type": "code",
      "source": [
        "# Step 1: Set the correct dataset path\n",
        "dataset_path = '/content/dataset'  # Path to your dataset"
      ],
      "metadata": {
        "id": "zoys2LDJtlJy"
      },
      "execution_count": 13,
      "outputs": []
    },
    {
      "cell_type": "code",
      "source": [
        "# Step 2: Initialize arrays for storing images and labels\n",
        "X = []\n",
        "y = []\n",
        "\n",
        "# Define the classes (assuming four types of eye diseases)\n",
        "classes = ['cataract', 'glaucoma', 'normal', 'diabetic_retinopathy']\n"
      ],
      "metadata": {
        "id": "56AjpLD8tlHM"
      },
      "execution_count": 14,
      "outputs": []
    },
    {
      "cell_type": "code",
      "source": [
        "# Step 3: Loop through each class folder and load images\n",
        "for i, class_name in enumerate(classes):\n",
        "    class_path = os.path.join(dataset_path, class_name)  # Path to each class folder\n",
        "\n",
        "    for img_name in tqdm(os.listdir(class_path)):  # List all image files in the class folder\n",
        "        img_path = os.path.join(class_path, img_name)  # Full path to the image\n",
        "        img = cv2.imread(img_path)  # Read the image\n",
        "\n",
        "        if img is not None:  # Make sure the image is loaded correctly\n",
        "            img = cv2.resize(img, (224, 224))  # Resize to the desired input size\n",
        "            X.append(img)  # Add the image to the list\n",
        "            y.append(i)  # Use class index as label\n",
        "\n",
        "# Step 4: Convert to NumPy arrays for model input\n",
        "X = np.array(X)\n",
        "y = np.array(y)\n"
      ],
      "metadata": {
        "id": "gA9MsQWAtlEO",
        "outputId": "b7cf229a-1743-4747-ca03-3c4762900f16",
        "colab": {
          "base_uri": "https://localhost:8080/"
        }
      },
      "execution_count": 15,
      "outputs": [
        {
          "output_type": "stream",
          "name": "stderr",
          "text": [
            "100%|██████████| 1038/1038 [00:12<00:00, 86.07it/s]\n",
            "100%|██████████| 1007/1007 [00:12<00:00, 79.02it/s]\n",
            "100%|██████████| 1074/1074 [00:04<00:00, 244.04it/s]\n",
            "100%|██████████| 1098/1098 [00:11<00:00, 95.25it/s] \n"
          ]
        }
      ]
    },
    {
      "cell_type": "code",
      "source": [
        "# Display the shape of X and y\n",
        "print(f\"Loaded {X.shape[0]} images with shape {X.shape[1:]} and {y.shape[0]} labels.\")"
      ],
      "metadata": {
        "id": "G50uI8WZtlBZ",
        "outputId": "e813af4a-231a-4cca-fbd7-70bec8b291c7",
        "colab": {
          "base_uri": "https://localhost:8080/"
        }
      },
      "execution_count": 16,
      "outputs": [
        {
          "output_type": "stream",
          "name": "stdout",
          "text": [
            "Loaded 4217 images with shape (224, 224, 3) and 4217 labels.\n"
          ]
        }
      ]
    },
    {
      "cell_type": "code",
      "source": [
        "# Step 5: Split data into training and testing sets\n",
        "X_train, X_test, y_train, y_test = train_test_split(X, y, test_size=0.33, random_state=42)\n",
        "\n",
        "# One-hot encode the labels\n",
        "lb = LabelBinarizer()\n",
        "y_train = lb.fit_transform(y_train)\n",
        "y_test = lb.transform(y_test)\n",
        "\n",
        "print(\"X_train Shape: \", X_train.shape)\n",
        "print(\"X_test Shape: \", X_test.shape)\n",
        "print(\"y_train Shape: \", y_train.shape)\n",
        "print(\"y_test Shape: \", y_test.shape)\n"
      ],
      "metadata": {
        "id": "6n5iKzGVtk-f",
        "outputId": "df5499b6-5403-46ab-bf3d-c6aa303d522a",
        "colab": {
          "base_uri": "https://localhost:8080/"
        }
      },
      "execution_count": 17,
      "outputs": [
        {
          "output_type": "stream",
          "name": "stdout",
          "text": [
            "X_train Shape:  (2825, 224, 224, 3)\n",
            "X_test Shape:  (1392, 224, 224, 3)\n",
            "y_train Shape:  (2825, 4)\n",
            "y_test Shape:  (1392, 4)\n"
          ]
        }
      ]
    },
    {
      "cell_type": "code",
      "source": [
        "# Step 6: Build a custom CNN model\n",
        "model = Sequential()\n",
        "\n",
        "# Add convolutional layers with max-pooling\n",
        "model.add(Conv2D(32, (3, 3), activation='relu', input_shape=(224, 224, 3)))\n",
        "model.add(MaxPooling2D((2, 2)))\n",
        "\n",
        "model.add(Conv2D(64, (3, 3), activation='relu'))\n",
        "model.add(MaxPooling2D((2, 2)))\n",
        "\n",
        "model.add(Conv2D(128, (3, 3), activation='relu'))\n",
        "model.add(MaxPooling2D((2, 2)))\n",
        "\n",
        "model.add(Conv2D(128, (3, 3), activation='relu'))\n",
        "model.add(MaxPooling2D((2, 2)))\n",
        "\n",
        "# Flatten the output and add fully connected layers\n",
        "model.add(Flatten())\n",
        "model.add(Dense(512, activation='relu'))\n",
        "model.add(Dropout(0.5))  # Dropout to reduce overfitting\n",
        "model.add(Dense(256, activation='relu'))\n",
        "model.add(Dense(4, activation='softmax'))  # 4 classes for output layer\n",
        "\n",
        "# Step 7: Compile the model\n",
        "model.compile(optimizer='adam', loss='categorical_crossentropy', metrics=['accuracy'])\n",
        "\n",
        "# Step 8: Train the model\n",
        "history = model.fit(X_train, y_train, epochs=10, validation_data=(X_test, y_test), verbose=1)"
      ],
      "metadata": {
        "id": "r9pD7CdStk7n",
        "outputId": "8d54bc45-296e-4b62-814e-a90d9c156731",
        "colab": {
          "base_uri": "https://localhost:8080/"
        }
      },
      "execution_count": 18,
      "outputs": [
        {
          "output_type": "stream",
          "name": "stderr",
          "text": [
            "/usr/local/lib/python3.10/dist-packages/keras/src/layers/convolutional/base_conv.py:107: UserWarning: Do not pass an `input_shape`/`input_dim` argument to a layer. When using Sequential models, prefer using an `Input(shape)` object as the first layer in the model instead.\n",
            "  super().__init__(activity_regularizer=activity_regularizer, **kwargs)\n"
          ]
        },
        {
          "output_type": "stream",
          "name": "stdout",
          "text": [
            "Epoch 1/10\n",
            "\u001b[1m89/89\u001b[0m \u001b[32m━━━━━━━━━━━━━━━━━━━━\u001b[0m\u001b[37m\u001b[0m \u001b[1m372s\u001b[0m 4s/step - accuracy: 0.4142 - loss: 12.5468 - val_accuracy: 0.5661 - val_loss: 0.8444\n",
            "Epoch 2/10\n",
            "\u001b[1m89/89\u001b[0m \u001b[32m━━━━━━━━━━━━━━━━━━━━\u001b[0m\u001b[37m\u001b[0m \u001b[1m360s\u001b[0m 4s/step - accuracy: 0.6294 - loss: 0.8230 - val_accuracy: 0.7134 - val_loss: 0.6445\n",
            "Epoch 3/10\n",
            "\u001b[1m89/89\u001b[0m \u001b[32m━━━━━━━━━━━━━━━━━━━━\u001b[0m\u001b[37m\u001b[0m \u001b[1m375s\u001b[0m 4s/step - accuracy: 0.6944 - loss: 0.6584 - val_accuracy: 0.7155 - val_loss: 0.6218\n",
            "Epoch 4/10\n",
            "\u001b[1m89/89\u001b[0m \u001b[32m━━━━━━━━━━━━━━━━━━━━\u001b[0m\u001b[37m\u001b[0m \u001b[1m385s\u001b[0m 4s/step - accuracy: 0.7074 - loss: 0.6033 - val_accuracy: 0.6774 - val_loss: 0.6396\n",
            "Epoch 5/10\n",
            "\u001b[1m89/89\u001b[0m \u001b[32m━━━━━━━━━━━━━━━━━━━━\u001b[0m\u001b[37m\u001b[0m \u001b[1m341s\u001b[0m 4s/step - accuracy: 0.7158 - loss: 0.5916 - val_accuracy: 0.7213 - val_loss: 0.6012\n",
            "Epoch 6/10\n",
            "\u001b[1m89/89\u001b[0m \u001b[32m━━━━━━━━━━━━━━━━━━━━\u001b[0m\u001b[37m\u001b[0m \u001b[1m429s\u001b[0m 4s/step - accuracy: 0.7361 - loss: 0.5706 - val_accuracy: 0.7328 - val_loss: 0.6106\n",
            "Epoch 7/10\n",
            "\u001b[1m89/89\u001b[0m \u001b[32m━━━━━━━━━━━━━━━━━━━━\u001b[0m\u001b[37m\u001b[0m \u001b[1m397s\u001b[0m 4s/step - accuracy: 0.7437 - loss: 0.5614 - val_accuracy: 0.7500 - val_loss: 0.5780\n",
            "Epoch 8/10\n",
            "\u001b[1m89/89\u001b[0m \u001b[32m━━━━━━━━━━━━━━━━━━━━\u001b[0m\u001b[37m\u001b[0m \u001b[1m380s\u001b[0m 4s/step - accuracy: 0.7564 - loss: 0.5400 - val_accuracy: 0.7335 - val_loss: 0.5809\n",
            "Epoch 9/10\n",
            "\u001b[1m89/89\u001b[0m \u001b[32m━━━━━━━━━━━━━━━━━━━━\u001b[0m\u001b[37m\u001b[0m \u001b[1m421s\u001b[0m 4s/step - accuracy: 0.7768 - loss: 0.5131 - val_accuracy: 0.7550 - val_loss: 0.5268\n",
            "Epoch 10/10\n",
            "\u001b[1m89/89\u001b[0m \u001b[32m━━━━━━━━━━━━━━━━━━━━\u001b[0m\u001b[37m\u001b[0m \u001b[1m341s\u001b[0m 4s/step - accuracy: 0.7900 - loss: 0.4754 - val_accuracy: 0.7773 - val_loss: 0.5245\n"
          ]
        }
      ]
    },
    {
      "cell_type": "code",
      "source": [
        "import matplotlib.pyplot as plt\n",
        "\n",
        "# Step 9: Plot training and validation accuracy\n",
        "acc = history.history['accuracy']\n",
        "val_acc = history.history['val_accuracy']\n",
        "epochs = range(len(acc))\n",
        "\n",
        "plt.plot(epochs, acc, 'r', label='Training accuracy')\n",
        "plt.plot(epochs, val_acc, 'b', label='Validation accuracy')\n",
        "plt.title('Training and Validation Accuracy')\n",
        "plt.xlabel('Epochs')\n",
        "plt.ylabel('Accuracy')\n",
        "plt.legend()\n",
        "plt.show()"
      ],
      "metadata": {
        "id": "YU7K3okItk4l",
        "outputId": "11d94833-be28-4c83-bb7f-e3f29f32143b",
        "colab": {
          "base_uri": "https://localhost:8080/",
          "height": 472
        }
      },
      "execution_count": 19,
      "outputs": [
        {
          "output_type": "display_data",
          "data": {
            "text/plain": [
              "<Figure size 640x480 with 1 Axes>"
            ],
            "image/png": "[encoded data removed]"
          },
          "metadata": {}
        }
      ]
    },
    {
      "cell_type": "code",
      "source": [
        "from sklearn.metrics import classification_report, confusion_matrix, accuracy_score, f1_score, precision_score, recall_score\n",
        "\n",
        "# Step 10: Evaluate the model on the test set\n",
        "y_pred = model.predict(X_test)\n",
        "\n",
        "# Convert predicted probabilities to class labels (one-hot encoded to class labels)\n",
        "y_pred_classes = np.argmax(y_pred, axis=1)\n",
        "y_true_classes = np.argmax(y_test, axis=1)\n",
        "\n",
        "# Print classification report and confusion matrix\n",
        "print(\"Classification Report:\\n\", classification_report(y_true_classes, y_pred_classes, target_names=classes))\n",
        "print(\"Confusion Matrix:\\n\", confusion_matrix(y_true_classes, y_pred_classes))\n",
        "\n",
        "# Calculate overall accuracy, precision, recall, and F1 score\n",
        "accuracy = accuracy_score(y_true_classes, y_pred_classes)\n",
        "precision = precision_score(y_true_classes, y_pred_classes, average='weighted')\n",
        "recall = recall_score(y_true_classes, y_pred_classes, average='weighted')\n",
        "f1 = f1_score(y_true_classes, y_pred_classes, average='weighted')\n",
        "\n",
        "print(f\"Overall Accuracy: {accuracy:.4f}\")\n",
        "print(f\"Weighted Precision: {precision:.4f}\")\n",
        "print(f\"Weighted Recall: {recall:.4f}\")\n",
        "print(f\"Weighted F1 Score: {f1:.4f}\")\n",
        "\n",
        "# Accuracy per class (from confusion matrix)\n",
        "conf_matrix = confusion_matrix(y_true_classes, y_pred_classes)\n",
        "class_accuracy = conf_matrix.diagonal() / conf_matrix.sum(axis=1)\n",
        "\n",
        "# Print accuracy for each class\n",
        "for i, class_name in enumerate(classes):\n",
        "    print(f\"Accuracy for {class_name}: {class_accuracy[i]:.4f}\")"
      ],
      "metadata": {
        "id": "fhN0NH48tk1t",
        "outputId": "ec32e034-903e-42ea-c2a3-f880c6fce440",
        "colab": {
          "base_uri": "https://localhost:8080/"
        }
      },
      "execution_count": 23,
      "outputs": [
        {
          "output_type": "stream",
          "name": "stdout",
          "text": [
            "\u001b[1m44/44\u001b[0m \u001b[32m━━━━━━━━━━━━━━━━━━━━\u001b[0m\u001b[37m\u001b[0m \u001b[1m44s\u001b[0m 970ms/step\n",
            "Classification Report:\n",
            "                       precision    recall  f1-score   support\n",
            "\n",
            "            cataract       0.73      0.72      0.72       352\n",
            "            glaucoma       0.83      0.43      0.56       340\n",
            "              normal       0.64      0.96      0.77       350\n",
            "diabetic_retinopathy       1.00      1.00      1.00       350\n",
            "\n",
            "            accuracy                           0.78      1392\n",
            "           macro avg       0.80      0.77      0.76      1392\n",
            "        weighted avg       0.80      0.78      0.77      1392\n",
            "\n",
            "Confusion Matrix:\n",
            " [[252  27  73   0]\n",
            " [ 80 145 115   0]\n",
            " [ 12   2 336   0]\n",
            " [  0   1   0 349]]\n",
            "Overall Accuracy: 0.7773\n",
            "Weighted Precision: 0.8003\n",
            "Weighted Recall: 0.7773\n",
            "Weighted F1 Score: 0.7651\n",
            "Accuracy for cataract: 0.7159\n",
            "Accuracy for glaucoma: 0.4265\n",
            "Accuracy for normal: 0.9600\n",
            "Accuracy for diabetic_retinopathy: 0.9971\n"
          ]
        }
      ]
    },
    {
      "cell_type": "code",
      "source": [
        "# Calculate overall accuracy, precision, recall, and F1 score\n",
        "accuracy = accuracy_score(y_true_classes, y_pred_classes)\n",
        "precision = precision_score(y_true_classes, y_pred_classes, average='weighted')\n",
        "recall = recall_score(y_true_classes, y_pred_classes, average='weighted')\n",
        "f1 = f1_score(y_true_classes, y_pred_classes, average='weighted')\n",
        "\n",
        "print(f\"Overall Accuracy: {accuracy:.4f}\")\n",
        "print(f\"Weighted Precision: {precision:.4f}\")\n",
        "print(f\"Weighted Recall: {recall:.4f}\")\n",
        "print(f\"Weighted F1 Score: {f1:.4f}\")\n",
        "\n",
        "# Accuracy per class (from confusion matrix)\n",
        "conf_matrix = confusion_matrix(y_true_classes, y_pred_classes)\n",
        "class_accuracy = conf_matrix.diagonal() / conf_matrix.sum(axis=1)\n",
        "\n",
        "# Print accuracy for each class\n",
        "for i, class_name in enumerate(classes):\n",
        "    print(f\"Accuracy for {class_name}: {class_accuracy[i]:.4f}\")"
      ],
      "metadata": {
        "id": "kXPS-rsztkyr",
        "outputId": "9756cf4f-2131-4aa1-a620-efca0e991bf6",
        "colab": {
          "base_uri": "https://localhost:8080/"
        }
      },
      "execution_count": 21,
      "outputs": [
        {
          "output_type": "stream",
          "name": "stdout",
          "text": [
            "Overall Accuracy: 0.7773\n",
            "Weighted Precision: 0.8003\n",
            "Weighted Recall: 0.7773\n",
            "Weighted F1 Score: 0.7651\n",
            "Accuracy for cataract: 0.7159\n",
            "Accuracy for glaucoma: 0.4265\n",
            "Accuracy for normal: 0.9600\n",
            "Accuracy for diabetic_retinopathy: 0.9971\n"
          ]
        }
      ]
    }
  ],
  "metadata": {
    "colab": {
      "provenance": []
    },
    "kernelspec": {
      "display_name": "Python 3 (ipykernel)",
      "language": "python",
      "name": "python3"
    },
    "language_info": {
      "codemirror_mode": {
        "name": "ipython",
        "version": 3
      },
      "file_extension": ".py",
      "mimetype": "text/x-python",
      "name": "python",
      "nbconvert_exporter": "python",
      "pygments_lexer": "ipython3",
      "version": "3.11.5"
    }
  },
  "nbformat": 4,
  "nbformat_minor": 0
}